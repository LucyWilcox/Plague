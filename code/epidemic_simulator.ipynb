{
 "cells": [
  {
   "cell_type": "markdown",
   "metadata": {},
   "source": [
    "# [Epidemic Spread through Trade Routes in Medieval Europe and Asia](https://github.com/LucyWilcox/Plague/blob/master/reports/final_report.md)\n",
    "\n",
    "## Epidemic Simulator\n",
    "\n",
    "### Lucy Wilcox and Kaitlyn Keil\n",
    "\n",
    "#### Complexity Science, Fall 2017\n",
    "\n",
    "#### Olin College of Engineering"
   ]
  },
  {
   "cell_type": "markdown",
   "metadata": {},
   "source": [
    "This notebook runs a simulation that replicates the work of Gomez and Verdu’s [*Network theory may explain the vulnerability of medieval human settlements to the Black Death pandemic*](https://www.nature.com/articles/srep43467). It creates a World class that is populated by cities and routes (both trade and pilgrimage) from data found at the [Old World Trade Routes Project](http://www.ciolek.com/owtrad.html). This World class is then saved via pickling for ease of access.\n",
    "\n",
    "The simulation then runs for 50 time steps for different transmission and quarantine rates, 100 times per pair and for both any city becoming quarantined or only hub cities being quarantined. The data is saved into 'any_city_sim.csv' and 'hub_city_sim.csv', to be used at a later time.\n",
    "\n",
    "The data saved by this notebook can be processed in [csv_plotter.ipynb](https://github.com/LucyWilcox/Plague/blob/master/code/csv_plotting.ipynb)."
   ]
  },
  {
   "cell_type": "code",
   "execution_count": 1,
   "metadata": {
    "collapsed": false
   },
   "outputs": [],
   "source": [
    "from __future__ import print_function, division\n",
    "\n",
    "%matplotlib inline\n",
    "\n",
    "import warnings\n",
    "warnings.filterwarnings('ignore')\n",
    "\n",
    "import matplotlib.pyplot as plt\n",
    "\n",
    "import networkx as nx\n",
    "import numpy as np\n",
    "import csv\n",
    "import _pickle as pickle\n",
    "\n",
    "import World, City, CSVReader"
   ]
  },
  {
   "cell_type": "code",
   "execution_count": 2,
   "metadata": {
    "collapsed": false,
    "scrolled": true
   },
   "outputs": [],
   "source": [
    "# Create a list of cities in Asia that might initially be infected.\n",
    "#  This will be randomly sampled from later to determine which is the starting city.\n",
    "starting_cities = [477, 689,742,767,769,770, 814,909,988,1009,1028,1029,1034,1093,1105,1161,1167,1206,120, 7]"
   ]
  },
  {
   "cell_type": "code",
   "execution_count": 3,
   "metadata": {
    "collapsed": false
   },
   "outputs": [
    {
     "name": "stdout",
     "output_type": "stream",
     "text": [
      "input error, cannot properly cast type for line []\n"
     ]
    }
   ],
   "source": [
    "# Create the list of response rates and transmitabilities.\n",
    "#  Response rate determines what percentage of either hub cities\n",
    "#  or all cities are quarantined before the start.\n",
    "#  Transmitability determines how likely it is that the infection\n",
    "#  spreads along any edge.\n",
    "\n",
    "response_percentages_any = [0, 0.05, 0.15, 0.25,\n",
    "                            0.35, 0.45, 0.55, 0.65, \n",
    "                           0.75, 0.85, 0.95]\n",
    "transmitabilities = [0.15, 0.5, 0.75]\n",
    "\n",
    "# Build and save the world for later loading.\n",
    "cities, city_graph = CSVReader.form_world()\n",
    "pickle.dump(cities, open('save_cities.p', 'wb'))\n",
    "pickle.dump(city_graph, open('save_graph.p', 'wb'))"
   ]
  },
  {
   "cell_type": "markdown",
   "metadata": {},
   "source": [
    "### Simulation with Any City Quarantine"
   ]
  },
  {
   "cell_type": "code",
   "execution_count": null,
   "metadata": {
    "collapsed": true
   },
   "outputs": [],
   "source": [
    "# Create the file for any city quarantining itself and prepare to write to it.\n",
    "f_output = open('any_city_sim.csv', 'w')\n",
    "writer = csv.writer(f_output)\n",
    "writer.writerow(['transmission', 'quarantine', 'total_infections', 'cities_infected'])"
   ]
  },
  {
   "cell_type": "code",
   "execution_count": null,
   "metadata": {
    "collapsed": true
   },
   "outputs": [],
   "source": [
    "# Run the simulation 100 times per transmission rate/response_rate pair\n",
    "#  Write the data to the csv\n",
    "\n",
    "for transmit_rate in transmitabilities:\n",
    "    for quarantine_response in response_percentages_any:\n",
    "        for _ in range(100):\n",
    "            starting_city = np.random.choice(starting_cities)\n",
    "            loaded_cities = pickle.load(open('save_cities.p', 'rb'))\n",
    "            loaded_city_graph = pickle.load(open('save_graph.p', 'rb'))\n",
    "            temp_world = World.World(loaded_cities, loaded_city_graph, [starting_city], transmit_rate, quarantine_response, False)\n",
    "            infected = temp_world.loop(100)\n",
    "            print(transmit_rate, quarantine_response, temp_world.total_infections, len(infected), len(temp_world.cant_infect))\n",
    "            writer.writerow([transmit_rate, quarantine_response, temp_world.total_infections, len(infected)])"
   ]
  },
  {
   "cell_type": "code",
   "execution_count": 4,
   "metadata": {
    "collapsed": false
   },
   "outputs": [],
   "source": [
    "# Close the file\n",
    "f_output.close()"
   ]
  },
  {
   "cell_type": "markdown",
   "metadata": {},
   "source": [
    "### Simulation with Hub Cities Quarantining"
   ]
  },
  {
   "cell_type": "code",
   "execution_count": 6,
   "metadata": {
    "collapsed": false
   },
   "outputs": [
    {
     "data": {
      "text/plain": [
       "' TODO: \\nFind average cities infected/total infections for each transmission/response percent\\nPlot both of these on probably colormaps\\nAlso a few quarantine vs num\\nTry taking out the single-city infections\\nCompare the hub-only with all cities'"
      ]
     },
     "execution_count": 6,
     "metadata": {},
     "output_type": "execute_result"
    }
   ],
   "source": [
    "# Repeat the previous process for hub cities.\n",
    "\n",
    "f_output_hub = open('hub_city_sim.csv', 'w')\n",
    "writer = csv.writer(f_output_hub)\n",
    "writer.writerow(['transmission', 'quarantine', 'total infections', 'cities infected'])\n",
    "\n",
    "for transmit_rate in transmitabilities:\n",
    "    for quarantine_response in response_percentages_any:\n",
    "        for _ in range(100):\n",
    "            starting_city = np.random.choice(starting_cities)\n",
    "            loaded_cities = pickle.load(open('save_cities.p', 'rb'))\n",
    "            loaded_city_graph = pickle.load(open('save_graph.p', 'rb'))\n",
    "            temp_world = World.World(loaded_cities, loaded_city_graph, [starting_city], transmit_rate, quarantine_response, True)\n",
    "            infected = temp_world.loop(100)\n",
    "            print(transmit_rate, quarantine_response, temp_world.total_infections, len(infected), len(temp_world.cant_infect))\n",
    "            writer.writerow([transmit_rate, quarantine_response, temp_world.total_infections, len(infected)])\n",
    "            \n",
    "f_output_hub.close()"
   ]
  }
 ],
 "metadata": {
  "anaconda-cloud": {},
  "kernelspec": {
   "display_name": "Python [conda root]",
   "language": "python",
   "name": "conda-root-py"
  },
  "language_info": {
   "codemirror_mode": {
    "name": "ipython",
    "version": 3
   },
   "file_extension": ".py",
   "mimetype": "text/x-python",
   "name": "python",
   "nbconvert_exporter": "python",
   "pygments_lexer": "ipython3",
   "version": "3.5.2"
  }
 },
 "nbformat": 4,
 "nbformat_minor": 2
}
