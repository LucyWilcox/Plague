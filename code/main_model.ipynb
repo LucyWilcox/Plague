{
 "cells": [
  {
   "cell_type": "markdown",
   "metadata": {
    "collapsed": true
   },
   "source": [
    "# Spread of the Plague in Medieval Europe\n",
    "## Lucy Wilcox and Kaitlyn Keil\n",
    "\n",
    "Based on the work of [Jose M. Gomez and Miguel Virdu](https://www.nature.com/articles/srep43467)"
   ]
  },
  {
   "cell_type": "code",
   "execution_count": 1,
   "metadata": {
    "collapsed": false
   },
   "outputs": [
    {
     "name": "stdout",
     "output_type": "stream",
     "text": [
      "input error, cannot properly cast type for line []\n",
      "input error, cannot properly cast type for line []\n",
      "input error, cannot properly cast type for line ['loc16-tmc050601', '']\n",
      "input error, cannot properly cast type for line ['-.566667', '44.833332', 'FR', '?Bordeaux', 'exact', '408', 'tmcZWEm1400a_066a']\n",
      "input error, cannot properly cast type for line []\n",
      "input error, cannot properly cast type for line []\n",
      "input error, cannot properly cast type for line []\n",
      "input error, cannot properly cast type for line []\n",
      "input error, cannot properly cast type for line []\n",
      "1096\n",
      "2.02747392520987\n"
     ]
    }
   ],
   "source": [
    "from World import *\n",
    "from CSVReader import form_world\n",
    "import networkx as nx\n",
    "import numpy as np\n",
    "import matplotlib.pyplot as plt\n",
    "import pandas as pd"
   ]
  },
  {
   "cell_type": "code",
   "execution_count": 2,
   "metadata": {
    "collapsed": false
   },
   "outputs": [
    {
     "name": "stdout",
     "output_type": "stream",
     "text": [
      "input error, cannot properly cast type for line []\n",
      "input error, cannot properly cast type for line []\n",
      "input error, cannot properly cast type for line ['loc16-tmc050601', '']\n",
      "input error, cannot properly cast type for line ['-.566667', '44.833332', 'FR', '?Bordeaux', 'exact', '408', 'tmcZWEm1400a_066a']\n",
      "input error, cannot properly cast type for line []\n",
      "input error, cannot properly cast type for line []\n",
      "input error, cannot properly cast type for line []\n",
      "input error, cannot properly cast type for line []\n",
      "input error, cannot properly cast type for line []\n"
     ]
    }
   ],
   "source": [
    "starting_cities = [477, 689,742,767,769,770, 814,909,988,1009,1028,1029,1034,1093,1105,1161,1167,1206,120, 7]\n",
    "starting_city = np.random.choice(starting_cities)\n",
    "cities, city_graph = form_world()"
   ]
  },
  {
   "cell_type": "code",
   "execution_count": 3,
   "metadata": {
    "collapsed": true
   },
   "outputs": [],
   "source": [
    "world = World(cities, city_graph, [starting_city], 0.5)\n",
    "\n",
    "infected = world.loop()"
   ]
  },
  {
   "cell_type": "code",
   "execution_count": 4,
   "metadata": {
    "collapsed": true
   },
   "outputs": [],
   "source": [
    "closeness, clustering_coefficient, degree, infection_count = grapher(world.cities)"
   ]
  },
  {
   "cell_type": "code",
   "execution_count": 5,
   "metadata": {
    "collapsed": false,
    "scrolled": true
   },
   "outputs": [
    {
     "data": {
      "text/plain": [
       "0.47596561327037173"
      ]
     },
     "execution_count": 5,
     "metadata": {},
     "output_type": "execute_result"
    }
   ],
   "source": [
    "intensity_to_degree = np.mean(degree)/np.mean(infection_count)\n",
    "intensity_to_degree"
   ]
  },
  {
   "cell_type": "code",
   "execution_count": 16,
   "metadata": {
    "collapsed": false
   },
   "outputs": [
    {
     "data": {
      "text/plain": [
       "6.3630769230769229"
      ]
     },
     "execution_count": 16,
     "metadata": {},
     "output_type": "execute_result"
    }
   ],
   "source": [
    "np.mean(infection_count)"
   ]
  },
  {
   "cell_type": "code",
   "execution_count": 26,
   "metadata": {
    "collapsed": false
   },
   "outputs": [
    {
     "name": "stdout",
     "output_type": "stream",
     "text": [
      "[[ 1.          0.47512014]\n",
      " [ 0.47512014  1.        ]]\n",
      "[[ 1.          0.47323874]\n",
      " [ 0.47323874  1.        ]]\n",
      "[[ 1.          0.47132679]\n",
      " [ 0.47132679  1.        ]]\n",
      "[[ 1.          0.46938609]\n",
      " [ 0.46938609  1.        ]]\n",
      "[[ 1.          0.46741839]\n",
      " [ 0.46741839  1.        ]]\n",
      "[[ 1.          0.46542543]\n",
      " [ 0.46542543  1.        ]]\n",
      "[[ 1.         0.4634089]\n",
      " [ 0.4634089  1.       ]]\n",
      "[[ 1.          0.46137046]\n",
      " [ 0.46137046  1.        ]]\n",
      "[[ 1.          0.45931172]\n",
      " [ 0.45931172  1.        ]]\n",
      "[[ 1.          0.45723428]\n",
      " [ 0.45723428  1.        ]]\n"
     ]
    }
   ],
   "source": [
    "trans_rates = [.05, .15, .25, .35, .45, .55, .65, .75, .85, .95]\n",
    "deg_to_count = []\n",
    "closeness_to_count = []\n",
    "cc_to_count = []\n",
    "\n",
    "for rate in trans_rates:\n",
    "    temp_world = World(cities, city_graph, [starting_city], rate)\n",
    "    infected = world.loop()\n",
    "    closeness, clustering_coefficient, degree, infection_count = grapher(world.cities)\n",
    "    av_count = np.mean(infection_count)\n",
    "    deg_to_count.append(np.mean(degree)/av_count)\n",
    "    print(np.corrcoef(degree, infection_count))\n",
    "    closeness_to_count.append(np.mean(closeness)/av_count)\n",
    "    cc_to_count.append(np.mean(clustering_coefficient)/av_count)"
   ]
  },
  {
   "cell_type": "code",
   "execution_count": 25,
   "metadata": {
    "collapsed": false,
    "scrolled": true
   },
   "outputs": [
    {
     "data": {
      "image/png": "[encoded data removed]",
      "text/plain": [
       "<matplotlib.figure.Figure at 0x7f6e6d31c668>"
      ]
     },
     "metadata": {},
     "output_type": "display_data"
    }
   ],
   "source": [
    "plt.plot(trans_rates, deg_to_count,'r*')\n",
    "plt.axis([0, 1, .474, .475])\n",
    "plt.show()"
   ]
  },
  {
   "cell_type": "code",
   "execution_count": 11,
   "metadata": {
    "collapsed": false
   },
   "outputs": [
    {
     "data": {
      "image/png": "[encoded data removed]",
      "text/plain": [
       "<matplotlib.figure.Figure at 0x7f6e6fd89e10>"
      ]
     },
     "metadata": {},
     "output_type": "display_data"
    }
   ],
   "source": [
    "plt.plot(trans_rates, closeness_to_count, 'r*')\n",
    "plt.show()"
   ]
  },
  {
   "cell_type": "code",
   "execution_count": 12,
   "metadata": {
    "collapsed": false
   },
   "outputs": [
    {
     "data": {
      "image/png": "[encoded data removed]",
      "text/plain": [
       "<matplotlib.figure.Figure at 0x7f6e6d35f208>"
      ]
     },
     "metadata": {},
     "output_type": "display_data"
    }
   ],
   "source": [
    "plt.plot(trans_rates, cc_to_count,'r*')\n",
    "plt.show()"
   ]
  },
  {
   "cell_type": "code",
   "execution_count": null,
   "metadata": {
    "collapsed": false
   },
   "outputs": [],
   "source": [
    "plt.plot(infection_count, closeness, 'r*')\n",
    "plt.show()"
   ]
  },
  {
   "cell_type": "code",
   "execution_count": null,
   "metadata": {
    "collapsed": false
   },
   "outputs": [],
   "source": [
    "plt.plot(infection_count, clustering_coefficient, 'r*')\n",
    "plt.show()"
   ]
  },
  {
   "cell_type": "code",
   "execution_count": null,
   "metadata": {
    "collapsed": false
   },
   "outputs": [],
   "source": [
    "plt.plot(infection_count, degree, 'r*')\n",
    "plt.show()"
   ]
  },
  {
   "cell_type": "code",
   "execution_count": null,
   "metadata": {
    "collapsed": true
   },
   "outputs": [],
   "source": []
  }
 ],
 "metadata": {
  "anaconda-cloud": {},
  "kernelspec": {
   "display_name": "Python [conda root]",
   "language": "python",
   "name": "conda-root-py"
  },
  "language_info": {
   "codemirror_mode": {
    "name": "ipython",
    "version": 3
   },
   "file_extension": ".py",
   "mimetype": "text/x-python",
   "name": "python",
   "nbconvert_exporter": "python",
   "pygments_lexer": "ipython3",
   "version": "3.5.2"
  }
 },
 "nbformat": 4,
 "nbformat_minor": 1
}
